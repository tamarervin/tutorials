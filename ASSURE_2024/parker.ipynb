{
 "cells": [
  {
   "attachments": {},
   "cell_type": "markdown",
   "metadata": {},
   "source": [
    "# Parker Solar Probe Data Download Example\n",
    "\n",
    "Tamar Ervin\n",
    "\n",
    "- Downloading [PSP](https://link.springer.com/article/10.1007/s11214-015-0211-6) data with [PySPEDAS](https://pyspedas.readthedocs.io/en/latest/)\n",
    "- Using [pyTplot](https://pytplot.readthedocs.io/en/latest/) to plot the data\n"
   ]
  },
  {
   "cell_type": "code",
   "execution_count": null,
   "metadata": {},
   "outputs": [],
   "source": [
    "### install required packages\n",
    "!pip install pyspedas pytplot\n",
    "!pip install sunpy astrospice astropy\n",
    "\n",
    "### upgrade the pyspedas package which pulls the data, has issues sometimes!\n",
    "!pip install pyspedas --upgrade\n"
   ]
  },
  {
   "cell_type": "code",
   "execution_count": null,
   "metadata": {},
   "outputs": [],
   "source": [
    "### don't worry if you get error messages!!!\n",
    "import pyspedas\n",
    "from pyspedas import time_string\n",
    "from pytplot import tplot, get_data\n",
    "import astrospice\n",
    "import sunpy \n",
    "import sunpy.coordinates as scoords\n",
    "import sys, os\n",
    "import datetime\n",
    "import pandas as pd\n",
    "import astropy.units as u\n",
    "import matplotlib.pyplot as plt"
   ]
  },
  {
   "attachments": {},
   "cell_type": "markdown",
   "metadata": {},
   "source": [
    "## Download and Plot the Data\n",
    "\n",
    "Example data to download:\n",
    "- [FIELDS](https://link.springer.com/article/10.1007/s11214-016-0244-5): Radial, Tangential, Normal (RTN) magnetic field data\n",
    "- [SWEAP/SPAN-I](https://iopscience.iop.org/article/10.3847/1538-4357/ac93f5) Proton: Radial, Tangential, Normal (RTN) proton velocity and proton density data\n",
    "- [SWEAP/SPAN-I](https://iopscience.iop.org/article/10.3847/1538-4357/ac93f5) Alpha Particle: Radial, Tangential, Normal (RTN) alpha particle velocity and density\n",
    "\n",
    "Data will download to a folder titled 'psp_data' in this same repo!\n",
    "\n",
    "Don't worry if this takes a while to run! The data is at a very high cadence and takes a bit to download depending on the time range\n",
    "\n",
    "## Plot the data using pyTplot\n",
    "\n",
    "[pyTplot](https://pytplot.readthedocs.io/en/latest/) is a Python package that works with PySPEDAS to plot space physics data! It already has all the information needed to plot observables in terms of their units! You can also create your own plots of the data using matplotlib.\n"
   ]
  },
  {
   "cell_type": "code",
   "execution_count": null,
   "metadata": {},
   "outputs": [],
   "source": [
    "### ------- TIME PERIOD OF INTEREST ------- ###\n",
    "# this is an example of data from the heliospheric current sheet (HCS) crossing during PSP Encounter 15\n",
    "time_range = ['2023-03-17/12:00', '2023-03-18/12:00']"
   ]
  },
  {
   "cell_type": "markdown",
   "metadata": {},
   "source": [
    "Here we will access data from the electromagnetic fields instrument. We are interested in the radial (Br), tangential (Bt), and normal (Bn) components of the magnetic field!"
   ]
  },
  {
   "cell_type": "code",
   "execution_count": null,
   "metadata": {},
   "outputs": [],
   "source": [
    "### ------- FIELDS: MAG RTN DATA ------- ###\n",
    "fields_vars = pyspedas.psp.fields(trange=time_range, datatype='mag_RTN_4_Sa_per_Cyc')\n",
    "\n",
    "### print out the variables stored in the magnetic field data\n",
    "print(fields_vars)\n",
    "\n",
    "### get the RTN magnetic field\n",
    "B_RTN = get_data('psp_fld_l2_mag_RTN_4_Sa_per_Cyc')\n",
    "\n",
    "### plot the data!\n",
    "tplot(['psp_fld_l2_mag_RTN_4_Sa_per_Cyc'])\n",
    "\n",
    "### CONVERT TIME FROM JULIAN TIME TO DATETIME OBJECT\n",
    "date_obj = [datetime.datetime.strptime(time_string(d), '%Y-%m-%d %H:%M:%S.%f') for d in B_RTN.times]\n",
    "\n",
    "### CREATE DATAFRAME\n",
    "rd = {'Time': date_obj, 'Br': B_RTN.y[:, 0], 'Bt': B_RTN.y[:, 1], 'Bn': B_RTN.y[:, 2]}\n",
    "fields = pd.DataFrame(data=rd)\n",
    "\n",
    "### SAVE DATAFRAME AS CSV\n",
    "fields.to_csv(os.path.join('fields.csv')) "
   ]
  },
  {
   "cell_type": "markdown",
   "metadata": {},
   "source": [
    "Here we will access data from the proton instrument. We are interested in the radial (Br), tangential (Bt), and normal (Bn) components of the velocity. Tp is the proton temperature. Np is the proton number density."
   ]
  },
  {
   "cell_type": "code",
   "execution_count": null,
   "metadata": {},
   "outputs": [],
   "source": [
    "### ------- SPAN-I: PROTON (HYDROGEN) MOMENTS ------- ###\n",
    "### download proton data\n",
    "proton_vars = pyspedas.psp.spi(trange=time_range, datatype='sf00_l3_mom', level='l3')\n",
    "\n",
    "### print out the variables stored in the proton data\n",
    "print(proton_vars)\n",
    "\n",
    "### get the RTN velocity, density, and temperature\n",
    "Np = get_data('psp_spi_DENS')\n",
    "vp_RTN = get_data('psp_spi_VEL_RTN_SUN')\n",
    "Tp = get_data('psp_spi_TEMP')\n",
    "\n",
    "### CONVERT TIME FROM JULIAN TIME TO DATETIME OBJECT\n",
    "date_obj = [datetime.datetime.strptime(time_string(d), '%Y-%m-%d %H:%M:%S.%f') for d in Np.times]\n",
    "\n",
    "### CREATE DATAFRAME\n",
    "rd = {'Time': date_obj, 'vr': vp_RTN.y[:, 0], 'vt': vp_RTN.y[:, 1], 'vn': vp_RTN.y[:, 2], 'Np': Np.y, 'Tp': Tp.y}\n",
    "protons = pd.DataFrame(data=rd)\n",
    "\n",
    "### SAVE DATAFRAME AS CSV\n",
    "protons.to_csv(os.path.join('protons.csv'))\n",
    "\n",
    "### plot the data!\n",
    "tplot(['psp_spi_DENS', 'psp_spi_VEL_RTN_SUN', 'psp_spi_TEMP'])"
   ]
  },
  {
   "cell_type": "markdown",
   "metadata": {},
   "source": [
    "Here we will access data from the alpha instrument. We are interested in the radial (Bra), tangential (Bta), and normal (Bna) components of the velocity of the alpha (Helium) particles. Ta is the alpha temperature. Na is the alpha number density."
   ]
  },
  {
   "cell_type": "code",
   "execution_count": null,
   "metadata": {},
   "outputs": [],
   "source": [
    "### ------- SPAN-I: ALPHA PARTICLE (HELIUM) MOMENTS ------- ###\n",
    "### download alpha particle data\n",
    "alpha_vars = pyspedas.psp.spi(trange=time_range, datatype='sf0a_l3_mom', level='l3')\n",
    "\n",
    "### print out the variables stored in the alpha particle data\n",
    "print(alpha_vars)\n",
    "\n",
    "### READ IN SWEAP VELOCITY (RTN), DENSITY, AND TEMPERATURE DATA\n",
    "Na = get_data('psp_spi_DENS')\n",
    "va_RTN = get_data('psp_spi_VEL_RTN_SUN')\n",
    "Ta = get_data('psp_spi_TEMP')\n",
    "\n",
    "### CONVERT TIME FROM JULIAN TIME TO DATETIME OBJECT\n",
    "date_obj = [datetime.datetime.strptime(time_string(d), '%Y-%m-%d %H:%M:%S.%f') for d in Na.times]\n",
    "\n",
    "### CREATE DATAFRAME\n",
    "rd = {'Time': date_obj, 'vra': va_RTN.y[:, 0], 'vta': va_RTN.y[:, 1], 'vna': va_RTN.y[:, 2], 'Na': Na.y, 'Ta': Ta.y}\n",
    "alphas = pd.DataFrame(data=rd)\n",
    "\n",
    "### SAVE DATAFRAME AS CSV\n",
    "alphas.to_csv(os.path.join('alphas.csv'))\n",
    "\n",
    "### plot the data!\n",
    "tplot(['psp_spi_DENS', 'psp_spi_VEL_RTN_SUN', 'psp_spi_TEMP'])"
   ]
  },
  {
   "attachments": {},
   "cell_type": "markdown",
   "metadata": {},
   "source": [
    "# Create Parker FIELDS/SWEAP Dataframe\n",
    "\n",
    "Now that we have a dataframe for each instrument, we then use pandas to merge the dataframes as a function of time.\n",
    "\n"
   ]
  },
  {
   "cell_type": "code",
   "execution_count": null,
   "metadata": {},
   "outputs": [],
   "source": [
    "### merge the PAS and MAG dataframes\n",
    "merged_df = pd.merge_asof(fields, protons, on='Time', direction='backward')\n",
    "\n",
    "### merge the HIS and newly merged dataframe\n",
    "merged_df = pd.merge_asof(alphas, merged_df, on='Time', direction='backward')\n",
    "merged_df = merged_df.set_index('Time')"
   ]
  },
  {
   "cell_type": "code",
   "execution_count": null,
   "metadata": {},
   "outputs": [],
   "source": [
    "### look at your dataframe\n",
    "merged_df"
   ]
  },
  {
   "attachments": {},
   "cell_type": "markdown",
   "metadata": {},
   "source": [
    "## Find the spacecraft trajectory\n",
    "\n",
    "Now we will use astrospice to generate the trajectory of the spacecraft. This package includes a \"kernel\" called PSP which holds the coordinate positions of Parker Solar Probe throughout its lifetime. Then we generate the coordinates for the specific time frame we want (pulled from our dataframe) based on this kernel."
   ]
  },
  {
   "cell_type": "code",
   "execution_count": null,
   "metadata": {},
   "outputs": [],
   "source": [
    "### access the PSP kernel\n",
    "kernels = astrospice.registry.get_kernels('psp','predict')\n",
    "\n",
    "### Create SkyCoord for Parker in the inertial (J2000) frame\n",
    "psp_inertial = astrospice.generate_coords(\n",
    "    'SOLAR PROBE PLUS', pd.to_datetime(merged_df.index.to_list())\n",
    ")\n",
    "\n",
    "### IGNORE THE WARNINGS !!! DONT WORRY"
   ]
  },
  {
   "cell_type": "code",
   "execution_count": null,
   "metadata": {},
   "outputs": [],
   "source": [
    "### read out these coordinates to see the structure\n",
    "print(psp_inertial)"
   ]
  },
  {
   "cell_type": "code",
   "execution_count": null,
   "metadata": {},
   "outputs": [],
   "source": [
    "### we transform from inertial coordinates (celestial coordinates) to heliocentric inertial coordinates (sun centered)\n",
    "psp_inertial = psp_inertial.transform_to(scoords.HeliocentricInertial)\n",
    "\n",
    "### We will now convert these to spherical coordinates (longitude, lattiude, radius)\n",
    "psp_inertial.representation_type='spherical'\n",
    "\n",
    "### print this out to see the difference\n",
    "print(psp_inertial)"
   ]
  },
  {
   "cell_type": "markdown",
   "metadata": {},
   "source": [
    "We can create a figure of the spacecraft coordinates in the inertial coordinate frame, and then you can look at it in Carrington coordinates! Feel free to experiment with colors: https://matplotlib.org/stable/gallery/color/named_colors.html\n",
    "\n",
    "Some important things to remember about plots:\n",
    "- axes labels!!, large fontsize is important!\n",
    "- visible/readable colors (consider color blindless)\n",
    "- big enough figures"
   ]
  },
  {
   "cell_type": "code",
   "execution_count": null,
   "metadata": {},
   "outputs": [],
   "source": [
    "### setting up some figure parameters\n",
    "plt.rcParams['font.family'] = 'Times New Roman' ## update the font to times new roman\n",
    "plt.rcParams['font.size'] = 20 ## change the fontsize!"
   ]
  },
  {
   "cell_type": "code",
   "execution_count": null,
   "metadata": {},
   "outputs": [],
   "source": [
    "### we will create a figure looking at the coordinates in various combinations\n",
    "fig, axs = plt.subplots(1, 2, figsize=(16, 6)) ### this will allow us to create two subplots that are next to each other!!\n",
    "ax1 = axs[0] ## this is the left axes\n",
    "ax2 = axs[1] ## this is the right axes\n",
    "\n",
    "### plot the longitude and latitude coordinates in the inertial frame\n",
    "ax1.plot(psp_inertial.lon, psp_inertial.lat, color='lavender', linewidth=5)\n",
    "# add axes labels\n",
    "ax1.set(xlabel='Longitude [deg]', ylabel='Latitude [deg]')\n",
    "\n",
    "### plot the longitude and radial coordinates in the inertial frame\n",
    "ax2.plot(psp_inertial.lon, psp_inertial.distance, color='lightpink', linewidth=5)\n",
    "# add axes labels\n",
    "ax2.set(xlabel='Longitude [deg]', ylabel='Radial Distance [km]')\n",
    "\n",
    "### save the figure!\n",
    "plt.savefig(os.path.realpath('inertial_trajectory.png'))"
   ]
  },
  {
   "cell_type": "markdown",
   "metadata": {},
   "source": [
    "Now we will look at the coordinate system in Carrington coordinates. These are coordinates that co-rotate with the Sun!"
   ]
  },
  {
   "cell_type": "code",
   "execution_count": null,
   "metadata": {},
   "outputs": [],
   "source": [
    "### Transform to solar co-rotating frame (Carrington coordinates)\n",
    "psp_carrington = psp_inertial.transform_to(\n",
    "    scoords.HeliographicCarrington(observer=\"self\")\n",
    ")"
   ]
  },
  {
   "cell_type": "markdown",
   "metadata": {},
   "source": [
    "Recreate the same figure as above but for the Carrington frame. Make sure to change the naming of the figure to make sense!"
   ]
  },
  {
   "cell_type": "code",
   "execution_count": null,
   "metadata": {},
   "outputs": [],
   "source": [
    "### create this figure for the Carrington frame\n"
   ]
  },
  {
   "attachments": {},
   "cell_type": "markdown",
   "metadata": {},
   "source": [
    "Now we will add the position information to our merged dataframe and save as a CSV file!"
   ]
  },
  {
   "cell_type": "code",
   "execution_count": null,
   "metadata": {},
   "outputs": [],
   "source": [
    "### ADD POSITION INFORMAITON AND SAVE\n",
    "parker = merged_df.copy()\n",
    "parker['lon'] = psp_carrington.lon.value ## longitude in carrington coordinates\n",
    "parker['lat'] = psp_carrington.lat.value ## latitude in carrington coordinates\n",
    "parker['rAU'] = psp_carrington.radius.to(u.AU).value ## radial distance from the Sun in AU (1AU is the Earth-Sun distance)\n",
    "parker.to_csv(os.path.join('parker.csv'))"
   ]
  },
  {
   "cell_type": "code",
   "execution_count": null,
   "metadata": {},
   "outputs": [],
   "source": [
    "### look at the dataframe\n",
    "parker"
   ]
  },
  {
   "cell_type": "markdown",
   "metadata": {},
   "source": [
    "# Radial Scaling of the Magnetic Field\n",
    "\n",
    "We are interested in understanding how the radial magnetic field (Br) scales with radial distance. Make a figure using the data stored in your dataframe to look at the radial scaling of the field. Make sure to think about the plotting \"best practices\" described above!\n",
    "\n",
    "You should plot data directly from the dataframe, do some googling to figure out how to do this!\n",
    "\n",
    "Ideas:\n",
    "- create a figure looking at radial distance versus radial (Br) magnetic field strength\n",
    "- look at the radial scaling of the magnetic field magnitude (|B|) calculated from Br, Bt, Bn\n",
    "- look at radial scaling of the proton density\n",
    "- calculate the proton and alpha pressure (think PV=nRT) and look at its radial scaling\n",
    "\n",
    "You can fit the scaling of these parameters as a function of distance to understand how they change!"
   ]
  },
  {
   "cell_type": "code",
   "execution_count": null,
   "metadata": {},
   "outputs": [],
   "source": [
    "### read in the dataframe\n",
    "parker = pd.read_csv(os.path.join('parker.csv'))\n",
    "\n",
    "### convert the time variable from a string to a datetime object (this allows you to make plots!)\n",
    "parker['Time'] = [datetime.datetime.strptime(d, '%Y-%m-%d %H:%M:%S.%f') for d in parker.Time]\n",
    "\n",
    "### look at the dataframe\n",
    "parker\n"
   ]
  },
  {
   "cell_type": "code",
   "execution_count": null,
   "metadata": {},
   "outputs": [],
   "source": []
  }
 ],
 "metadata": {
  "kernelspec": {
   "display_name": "Python 3 (ipykernel)",
   "language": "python",
   "name": "python3"
  },
  "language_info": {
   "codemirror_mode": {
    "name": "ipython",
    "version": 3
   },
   "file_extension": ".py",
   "mimetype": "text/x-python",
   "name": "python",
   "nbconvert_exporter": "python",
   "pygments_lexer": "ipython3",
   "version": "3.11.0"
  },
  "vscode": {
   "interpreter": {
    "hash": "ff33bd1c68fd18cad7c7dda42a3b2eabf8f517631236701e465b5d513c967cbf"
   }
  }
 },
 "nbformat": 4,
 "nbformat_minor": 4
}
