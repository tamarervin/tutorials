{
 "cells": [
  {
   "attachments": {},
   "cell_type": "markdown",
   "metadata": {},
   "source": [
    "# MAVEN Data Access Example\n",
    "\n",
    "Tamar Ervin\n",
    "\n",
    "September 21, 2023\n",
    "\n",
    "- Downloading [MAVEN](https://link.springer.com/article/10.1007/s11214-015-0139-x) data with [PySPEDAS](https://pyspedas.readthedocs.io/en/latest/)\n",
    "- PySPEDAS is unable to read the CDF files, so it will break with the CDF reader but still download the files!\n"
   ]
  },
  {
   "cell_type": "code",
   "execution_count": null,
   "metadata": {},
   "outputs": [],
   "source": [
    "import glob\n",
    "import pyspedas\n",
    "import cdflib\n",
    "import sunpy\n",
    "import astrospice\n",
    "import sunpy \n",
    "import sys, os\n",
    "import datetime\n",
    "import numpy as np\n",
    "import pandas as pd\n",
    "import astropy.units as u\n",
    "import matplotlib.pyplot as plt"
   ]
  },
  {
   "attachments": {},
   "cell_type": "markdown",
   "metadata": {},
   "source": [
    "## Download and Plot the Data\n"
   ]
  },
  {
   "cell_type": "code",
   "execution_count": null,
   "metadata": {},
   "outputs": [],
   "source": [
    "### ------- TIME PERIOD OF INTEREST ------- ###\n",
    "time_range = ['2021-08-10', '2021-08-11']"
   ]
  },
  {
   "attachments": {},
   "cell_type": "markdown",
   "metadata": {},
   "source": [
    "We start by using pyspedas to pull the MAVEN MAG data. There are some weird things with these files so we have to use some other functions to actually read in the files."
   ]
  },
  {
   "cell_type": "code",
   "execution_count": null,
   "metadata": {},
   "outputs": [],
   "source": [
    "### ------- MAVEN: MAG RTN DATA ------- ###\n",
    "pyspedas.maven.mag(trange=time_range, datatype='ss1s', downloadonly=True)\n"
   ]
  },
  {
   "attachments": {},
   "cell_type": "markdown",
   "metadata": {},
   "source": [
    "These are the functions to read in the MAVEN MAG files. \n",
    "\n",
    "Courtesy of Rebecca Jolitz."
   ]
  },
  {
   "cell_type": "code",
   "execution_count": null,
   "metadata": {},
   "outputs": [],
   "source": [
    "import datetime as dt\n",
    "def read_sts(filename, method='loadtxt'):\n",
    "\n",
    "    if \"mvn_mag_ql\" in filename:\n",
    "        skip_header = 86\n",
    "    elif \"mvn_mag_l2\" in filename:\n",
    "        skip_header = 150\n",
    "\n",
    "    if method == \"loadtxt\":\n",
    "        b = np.loadtxt(filename, skiprows=skip_header, dtype='f8')\n",
    "    elif method == \"genfromtxt\":\n",
    "        b = np.genfromtxt(\n",
    "            filename,\n",
    "            delimiter=(6, 4, 3, 3, 3, 4, 14, 11, 10, 10, 4),\n",
    "            skip_header=skip_header, dtype='f8')\n",
    "\n",
    "    return b\n",
    "\n",
    "def doy_to_utc(year, doy, hour, minute, sec, msec):\n",
    "\n",
    "    # Sometimes these fields are\n",
    "    # improperly read as integers,\n",
    "    # which will cause strange additive behaviors.\n",
    "    # Convert them to floats to avoid this.\n",
    "    year = year.astype('float')\n",
    "    doy = doy.astype('float')\n",
    "    hour = hour.astype('float')\n",
    "    minute = minute.astype('float')\n",
    "    sec = sec.astype('float')\n",
    "    msec = msec.astype('float')\n",
    "\n",
    "    # Get the total number of seconds that have transpired\n",
    "    # since the year started.\n",
    "    total_sec = (doy - 1)*24*60*60 + hour*60*60 +\\\n",
    "        minute*60 + sec + (1e-3*msec)\n",
    "    time_utc =\\\n",
    "        [dt.datetime(int(y), 1, 1) + dt.timedelta(seconds=s) for (y, s) in\n",
    "         zip(year, total_sec)]\n",
    "\n",
    "    return time_utc\n",
    "\n",
    "\n",
    "def parse_sts(b, columns=(\"epoch\", \"Bx\", \"By\", \"Bz\")):\n",
    "\n",
    "    # L1 has 11 columns:\n",
    "    # Year | DOY | Hour | Min | Sec | Msec | Decimal day |\n",
    "    # (Outboard magnetic field columns)\n",
    "    # OB_B_X (nT)| OB_B_Y (nT)| OB_B_Z (nT)| OB_B_RANGE (nT)|\n",
    "\n",
    "    # L2 has 18 columns:\n",
    "    # Year | DOY | Hour | Min | Sec | Msec | Decimal day |\n",
    "    # (Outboard magnetic field columns)\n",
    "    # OB_B_X (nT)| OB_B_Y (nT)| OB_B_Z (nT)| OB_B_RANGE (nT)|\n",
    "    # (S/c position columns)\n",
    "    # POSN_X (km) | POSN_Y (km) | POSN_Z (km)\n",
    "    # (Outboard dynamic corrections)\n",
    "    # OB (nT)| OB_BD_Y (nT)| OB_BD_Z (nT)| OB_BD_RANGE (nT)|\n",
    "\n",
    "    time_utc = doy_to_utc(b[:, 0], b[:, 1], b[:, 2], b[:, 3], b[:, 4], b[:, 5])\n",
    "\n",
    "    bx = b[:, 7]\n",
    "    by = b[:, 8]\n",
    "    bz = b[:, 9]\n",
    "\n",
    "    return time_utc, bx, by, bz"
   ]
  },
  {
   "cell_type": "code",
   "execution_count": null,
   "metadata": {},
   "outputs": [],
   "source": [
    "### READ IN TEXT FILES\n",
    "mag_file_path = glob.glob(os.path.realpath(os.path.join('maven_data/maven/data/sci', 'mag/l2', '2021', '08', '*.sts'))) ## path to the .sts magnetic field files\n",
    "time_utc, bx, by, bz = parse_sts(read_sts(mag_file_path[1])) ## read in a specific file\n",
    "\n",
    "### CALCULATE THE MAGNETIC FIELD MAGNITUDE\n",
    "Btotal = np.sqrt(bx**2 + by**2 + bz**2) "
   ]
  },
  {
   "attachments": {},
   "cell_type": "markdown",
   "metadata": {},
   "source": [
    "We now plot the x, y, z and total magnetic field!"
   ]
  },
  {
   "cell_type": "code",
   "execution_count": null,
   "metadata": {},
   "outputs": [],
   "source": [
    "### PLOT THE MAG DATA\n",
    "fig = plt.figure(figsize=[15, 4])\n",
    "plt.plot(time_utc, bx, color='tab:blue', label=r'$\\rm B_x$')\n",
    "plt.plot(time_utc, by, color='tab:red', label=r'$\\rm B_y$')\n",
    "plt.plot(time_utc, bz, color='tab:green', label=r'$\\rm B_z$')\n",
    "plt.plot(time_utc, Btotal, color='black', label=r'$\\rm |B|$')\n",
    "plt.ylabel(r'$\\rm B \\; [nT]$')\n",
    "plt.legend(loc='upper right', fontsize=18)"
   ]
  },
  {
   "attachments": {},
   "cell_type": "markdown",
   "metadata": {},
   "source": [
    "Now we will look at some particle data!"
   ]
  },
  {
   "cell_type": "code",
   "execution_count": null,
   "metadata": {},
   "outputs": [],
   "source": [
    "### ------- SWIA: ION MOMENTS ------- ###\n",
    "### download ion particle data\n",
    "pyspedas.maven.swia(trange=time_range, datatype='onboardsvymom', downloadonly=True)\n"
   ]
  },
  {
   "attachments": {},
   "cell_type": "markdown",
   "metadata": {},
   "source": [
    "We will use a special CDF reader to read in the files."
   ]
  },
  {
   "cell_type": "code",
   "execution_count": null,
   "metadata": {},
   "outputs": [],
   "source": [
    "### READ IN THE ION (SWIA) FILES\n",
    "files = glob.glob(os.path.join(os.path.realpath(os.path.join('maven_data', 'maven/data/sci/swi/l2/2021/08')), \"*.cdf\"), recursive=True)\n",
    "data_cdf = cdflib.CDF(files[0]) ## read in the first ion file\n",
    "\n",
    "### PRINT OUT FILE INFO\n",
    "print(data_cdf.cdf_info())\n",
    "\n",
    "### READ IN VARIABLE INFO\n",
    "N = data_cdf.varget(\"density\")\n",
    "v = data_cdf.varget(\"velocity\")\n",
    "T = data_cdf.varget(\"temperature\")\n",
    "p = data_cdf.varget(\"pressure\")\n",
    "\n",
    "### PLOT THE DATA\n",
    "fig, axs = plt.subplots(4, figsize=[14, 10])\n",
    "dt = [N, v, T, p]\n",
    "ylabels = [r'$\\rm N_p$', r'$\\rm v_p$', r'$\\rm T_p$', r'$\\rm p_p$']\n",
    "for i, ax in enumerate(axs):\n",
    "    ax.plot(dt[i], linewidth=1)\n",
    "    ax.set_ylabel(ylabels[i], fontsize=16)"
   ]
  },
  {
   "attachments": {},
   "cell_type": "markdown",
   "metadata": {},
   "source": [
    "Read in the EUV Data"
   ]
  },
  {
   "cell_type": "code",
   "execution_count": null,
   "metadata": {},
   "outputs": [],
   "source": [
    "files = glob.glob(os.path.join(os.path.realpath(os.path.join('maven_data', 'maven/data/sci/euv/l2/2016/01')), \"*\"), recursive=True)\n",
    "data_cdf = cdflib.CDF(files[0]) ## read in the first EUV file\n",
    "\n",
    "### PRINT OUT FILE INFO\n",
    "print(data_cdf.cdf_info())\n",
    "\n",
    "### Get the spectral irradiance (W/m^2) as a timeseries\n",
    "dt = data_cdf.varget(\"data\")\n",
    "time = data_cdf.varget(\"time_unix\")\n",
    "\n",
    "### PLOT THE SPECTRAL IRRANDIANCE\n",
    "fig = plt.figure(figsize=[15, 4])\n",
    "plt.plot(time, dt)\n",
    "plt.ylabel('Spectral Irradiance')"
   ]
  }
 ],
 "metadata": {
  "kernelspec": {
   "display_name": "e11_conjunction",
   "language": "python",
   "name": "python3"
  },
  "language_info": {
   "codemirror_mode": {
    "name": "ipython",
    "version": 3
   },
   "file_extension": ".py",
   "mimetype": "text/x-python",
   "name": "python",
   "nbconvert_exporter": "python",
   "pygments_lexer": "ipython3",
   "version": "3.11.0 | packaged by conda-forge | (main, Jan 14 2023, 12:26:40) [Clang 14.0.6 ]"
  },
  "orig_nbformat": 4,
  "vscode": {
   "interpreter": {
    "hash": "2e4f03cd68f3789d90a1fdc4e956709ed857be600500045888d59a9e8afa8ef6"
   }
  }
 },
 "nbformat": 4,
 "nbformat_minor": 2
}
